{
  "nbformat": 4,
  "nbformat_minor": 0,
  "metadata": {
    "colab": {
      "provenance": [],
      "authorship_tag": "ABX9TyOaseP++4wRBlf9+tDbisll",
      "include_colab_link": true
    },
    "kernelspec": {
      "name": "python3",
      "display_name": "Python 3"
    },
    "language_info": {
      "name": "python"
    }
  },
  "cells": [
    {
      "cell_type": "markdown",
      "metadata": {
        "id": "view-in-github",
        "colab_type": "text"
      },
      "source": [
        "<a href=\"https://colab.research.google.com/github/Amal-Emad/CV-ASSIGNMENTS/blob/main/TechnoASSI01.ipynb\" target=\"_parent\"><img src=\"https://colab.research.google.com/assets/colab-badge.svg\" alt=\"Open In Colab\"/></a>"
      ]
    },
    {
      "cell_type": "markdown",
      "source": [
        "# **ASSIGNMENT1**\n",
        "# **AMAL ALKRAIMEEN**"
      ],
      "metadata": {
        "id": "K6v3KYPphmWb"
      }
    },
    {
      "cell_type": "code",
      "source": [
        "import pandas as pd"
      ],
      "metadata": {
        "id": "oe728qGlh0LL"
      },
      "execution_count": 2,
      "outputs": []
    },
    {
      "cell_type": "markdown",
      "source": [
        "**Load the dataset from the csv file into a DataFrame.**"
      ],
      "metadata": {
        "id": "dSliK-_Kk4Eq"
      }
    },
    {
      "cell_type": "code",
      "source": [
        "movie_data = pd.read_csv(\"/content/Movie-Data.csv\")"
      ],
      "metadata": {
        "id": "M_BsGr_nh49N"
      },
      "execution_count": 4,
      "outputs": []
    },
    {
      "cell_type": "markdown",
      "source": [],
      "metadata": {
        "id": "8GwQakkAlF51"
      }
    },
    {
      "cell_type": "markdown",
      "source": [
        "**Show the shape of the dataframe and the general information.**"
      ],
      "metadata": {
        "id": "zcLSqqsKlF-Y"
      }
    },
    {
      "cell_type": "code",
      "source": [
        "#Displaying shape and general information of the DataFrame\n",
        "print(\"DataFrame Shape:\", movie_data.shape)\n",
        "print(\"General Information:\")\n",
        "print(movie_data.info())\n"
      ],
      "metadata": {
        "colab": {
          "base_uri": "https://localhost:8080/"
        },
        "id": "o8FDFmx1iAmc",
        "outputId": "3174659e-bea9-49e7-dd68-fe545d944366"
      },
      "execution_count": 23,
      "outputs": [
        {
          "output_type": "stream",
          "name": "stdout",
          "text": [
            "DataFrame Shape: (996, 13)\n",
            "General Information:\n",
            "<class 'pandas.core.frame.DataFrame'>\n",
            "Index: 996 entries, 0 to 1007\n",
            "Data columns (total 13 columns):\n",
            " #   Column            Non-Null Count  Dtype  \n",
            "---  ------            --------------  -----  \n",
            " 0   Rank              996 non-null    int64  \n",
            " 1   Title             996 non-null    object \n",
            " 2   Genre             996 non-null    object \n",
            " 3   Description       996 non-null    object \n",
            " 4   Director          985 non-null    object \n",
            " 5   Actors            996 non-null    object \n",
            " 6   Year              990 non-null    float64\n",
            " 7   Runtime_Minutes   995 non-null    float64\n",
            " 8   Rating            996 non-null    float64\n",
            " 9   Votes             996 non-null    int64  \n",
            " 10  Revenue_Millions  869 non-null    float64\n",
            " 11  Metascore         932 non-null    float64\n",
            " 12  Metamark          996 non-null    object \n",
            "dtypes: float64(5), int64(2), object(6)\n",
            "memory usage: 108.9+ KB\n",
            "None\n"
          ]
        }
      ]
    },
    {
      "cell_type": "code",
      "source": [
        "print(movie_data.head())"
      ],
      "metadata": {
        "colab": {
          "base_uri": "https://localhost:8080/"
        },
        "id": "AdjEw10vkxHC",
        "outputId": "4066148d-cdb0-41f2-fb47-74eeb6bb9866"
      },
      "execution_count": 24,
      "outputs": [
        {
          "output_type": "stream",
          "name": "stdout",
          "text": [
            "   Rank                    Title                     Genre  \\\n",
            "0     1  Guardians of the Galaxy   Action,Adventure,Sci-Fi   \n",
            "1     2               Prometheus  Adventure,Mystery,Sci-Fi   \n",
            "2     3                    Split           Horror,Thriller   \n",
            "3     4                     Sing   Animation,Comedy,Family   \n",
            "4     5            Suicide Squad  Action,Adventure,Fantasy   \n",
            "\n",
            "                                         Description              Director  \\\n",
            "0  A group of intergalactic criminals are forced ...            James Gunn   \n",
            "1  Following clues to the origin of mankind, a te...          Ridley Scott   \n",
            "2  Three girls are kidnapped by a man with a diag...    M. Night Shyamalan   \n",
            "3  In a city of humanoid animals, a hustling thea...  Christophe Lourdelet   \n",
            "4  A secret government agency recruits some of th...            David Ayer   \n",
            "\n",
            "                                              Actors    Year  Runtime_Minutes  \\\n",
            "0  Chris Pratt, Vin Diesel, Bradley Cooper, Zoe S...  2014.0            121.0   \n",
            "1  Noomi Rapace, Logan Marshall-Green, Michael Fa...  2012.0            124.0   \n",
            "2  James McAvoy, Anya Taylor-Joy, Haley Lu Richar...  2016.0            117.0   \n",
            "3  Matthew McConaughey,Reese Witherspoon, Seth Ma...  2016.0            108.0   \n",
            "4  Will Smith, Jared Leto, Margot Robbie, Viola D...  2016.0            123.0   \n",
            "\n",
            "   Rating   Votes  Revenue_Millions  Metascore   Metamark  \n",
            "0     8.1  757074            333.13       76.0  Excellent  \n",
            "1     7.0  485820            126.46       65.0  Excellent  \n",
            "2     7.3  157606            138.12       62.0  Excellent  \n",
            "3     7.2   60545            270.32       59.0  Excellent  \n",
            "4     6.2  393727            325.02       40.0  Excellent  \n"
          ]
        }
      ]
    },
    {
      "cell_type": "markdown",
      "source": [
        "**Rename column Runtime (Minutes) to Runtime_Minutes and column Revenue\n",
        "(Millions) to Revenue_Millions**"
      ],
      "metadata": {
        "id": "Bk7DOXdplK3h"
      }
    },
    {
      "cell_type": "code",
      "source": [
        "movie_data.rename(columns={\"Runtime (Minutes)\": \"Runtime_Minutes\", \"Revenue (Millions)\": \"Revenue_Millions\"}, inplace=True)\n",
        "print(\"Columns renamed successfully.\")"
      ],
      "metadata": {
        "colab": {
          "base_uri": "https://localhost:8080/"
        },
        "id": "DfOH7Td0iNYs",
        "outputId": "65f372fe-8498-4878-9e5a-54007054fd71"
      },
      "execution_count": 7,
      "outputs": [
        {
          "output_type": "stream",
          "name": "stdout",
          "text": [
            "Columns renamed successfully.\n"
          ]
        }
      ]
    },
    {
      "cell_type": "markdown",
      "source": [
        "**Are there any duplicates? How many? If yes, drop them**"
      ],
      "metadata": {
        "id": "0WS53M4tljNE"
      }
    },
    {
      "cell_type": "code",
      "source": [
        "duplicates_count = movie_data.duplicated().sum()\n",
        "if duplicates_count > 0:\n",
        "    movie_data.drop_duplicates(inplace=True)\n",
        "    print(duplicates_count, \"duplicate(s) removed.\")\n",
        "else:\n",
        "    print(\"No duplicates found.\")"
      ],
      "metadata": {
        "colab": {
          "base_uri": "https://localhost:8080/"
        },
        "id": "6raVVXeLicbW",
        "outputId": "a06a38ff-1365-4cfe-a211-1cdf5c5760b6"
      },
      "execution_count": 8,
      "outputs": [
        {
          "output_type": "stream",
          "name": "stdout",
          "text": [
            "No duplicates found.\n"
          ]
        }
      ]
    },
    {
      "cell_type": "markdown",
      "source": [
        "**How many missing values are there?\n",
        "How many missing Description? Drop all movies with missing Description**"
      ],
      "metadata": {
        "id": "88OS7WZ7lqK6"
      }
    },
    {
      "cell_type": "code",
      "source": [
        "missing_values_count = movie_data.isnull().sum().sum()\n",
        "print(\"Number of missing values:\", missing_values_count)\n",
        "movie_data.dropna(subset=['Description'], inplace=True)\n",
        "print(\"Movies with missing Description dropped.\")"
      ],
      "metadata": {
        "colab": {
          "base_uri": "https://localhost:8080/"
        },
        "id": "rCZj7GWHihTu",
        "outputId": "98fe9e09-bd38-491b-a8a3-b51bbd0c0f76"
      },
      "execution_count": 9,
      "outputs": [
        {
          "output_type": "stream",
          "name": "stdout",
          "text": [
            "Number of missing values: 222\n",
            "Movies with missing Description dropped.\n"
          ]
        }
      ]
    },
    {
      "cell_type": "markdown",
      "source": [
        "**Show the top ten Genre categories**"
      ],
      "metadata": {
        "id": "K-gqBlEWmAmC"
      }
    },
    {
      "cell_type": "code",
      "source": [
        "top_genre_categories = movie_data['Genre'].value_counts().head(10)\n",
        "print(\"Top ten Genre categories:\")\n",
        "print(top_genre_categories)"
      ],
      "metadata": {
        "colab": {
          "base_uri": "https://localhost:8080/"
        },
        "id": "IQT6_-37ioF5",
        "outputId": "d7076915-cf98-423b-e84b-80e9ecdf3e14"
      },
      "execution_count": 10,
      "outputs": [
        {
          "output_type": "stream",
          "name": "stdout",
          "text": [
            "Top ten Genre categories:\n",
            "Genre\n",
            "Action,Adventure,Sci-Fi       50\n",
            "Drama                         47\n",
            "Comedy,Drama,Romance          35\n",
            "Comedy                        32\n",
            "Drama,Romance                 30\n",
            "Animation,Adventure,Comedy    29\n",
            "Action,Adventure,Fantasy      27\n",
            "Comedy,Drama                  27\n",
            "Comedy,Romance                26\n",
            "Crime,Drama,Thriller          24\n",
            "Name: count, dtype: int64\n"
          ]
        }
      ]
    },
    {
      "cell_type": "markdown",
      "source": [
        "**Show the top five voted movies and the least five.**"
      ],
      "metadata": {
        "id": "2iClXNr7mRPe"
      }
    },
    {
      "cell_type": "code",
      "source": [
        "top_voted_movies = movie_data.sort_values(by='Votes', ascending=False).head(5)\n",
        "least_voted_movies = movie_data.sort_values(by='Votes', ascending=True).head(5)\n",
        "print(\"Top five voted movies:\")\n",
        "print(top_voted_movies)\n",
        "print(\"Least five voted movies:\")\n",
        "print(least_voted_movies)"
      ],
      "metadata": {
        "colab": {
          "base_uri": "https://localhost:8080/"
        },
        "id": "0y1IXFlwiptK",
        "outputId": "1a502fcc-7771-4db2-9df4-4cd664919d91"
      },
      "execution_count": 11,
      "outputs": [
        {
          "output_type": "stream",
          "name": "stdout",
          "text": [
            "Top five voted movies:\n",
            "     Rank                  Title                    Genre  \\\n",
            "54     55        The Dark Knight       Action,Crime,Drama   \n",
            "80     81              Inception  Action,Adventure,Sci-Fi   \n",
            "124   125  The Dark Knight Rises          Action,Thriller   \n",
            "36     37           Interstellar   Adventure,Drama,Sci-Fi   \n",
            "76     77           The Avengers            Action,Sci-Fi   \n",
            "\n",
            "                                           Description           Director  \\\n",
            "54   When the menace known as the Joker wreaks havo...                NaN   \n",
            "80   A thief, who steals corporate secrets through ...          Matt Ross   \n",
            "124  Eight years after the Joker's reign of anarchy...        Jon Favreau   \n",
            "36   A team of explorers travel through a wormhole ...   Scott Derrickson   \n",
            "76   Earth's mightiest heroes must come together an...  Quentin Tarantino   \n",
            "\n",
            "                                                Actors    Year  \\\n",
            "54   Christian Bale, Heath Ledger, Aaron Eckhart,Mi...  2008.0   \n",
            "80   Leonardo DiCaprio, Joseph Gordon-Levitt, Ellen...  2010.0   \n",
            "124  Christian Bale, Tom Hardy, Anne Hathaway,Gary ...  2012.0   \n",
            "36   Matthew McConaughey, Anne Hathaway, Jessica Ch...  2014.0   \n",
            "76   Robert Downey Jr., Chris Evans, Scarlett Johan...  2012.0   \n",
            "\n",
            "     Runtime_Minutes  Rating    Votes  Revenue_Millions  Metascore  \n",
            "54             152.0     9.0  1791916            533.32       82.0  \n",
            "80             148.0     8.8  1583625            292.57       74.0  \n",
            "124            164.0     8.5  1222645            448.13       78.0  \n",
            "36             169.0     8.6  1047747            187.99       74.0  \n",
            "76             143.0     8.1  1045588            623.28       69.0  \n",
            "Least five voted movies:\n",
            "     Rank                     Title           Genre  \\\n",
            "478   479            Paint It Black           Drama   \n",
            "293   294             The Exception           Drama   \n",
            "393   394             Whisky Galore  Comedy,Romance   \n",
            "337   338                 Tracktown     Drama,Sport   \n",
            "416   417  The Headhunter's Calling           Drama   \n",
            "\n",
            "                                           Description       Director  \\\n",
            "478  A young woman attempts to deal with the death ...  Justin Kurzel   \n",
            "293  A German soldier tries to determine if the Dut...    Zack Snyder   \n",
            "393  Scottish islanders try to plunder cases of whi...   Dennis Dugan   \n",
            "337  A young, talented, and lonely long-distance ru...     Josh Boone   \n",
            "416  A headhunter whose life revolves around closin...     Joe Wright   \n",
            "\n",
            "                                                Actors    Year  \\\n",
            "478  Alia Shawkat, Nancy Kwan, Annabelle Attanasio,...  2016.0   \n",
            "293  Lily James, Jai Courtney, Christopher Plummer,...  2016.0   \n",
            "393  Tim Pigott-Smith, Naomi Battrick, Ellie Kendri...  2016.0   \n",
            "337  Alexi Pappas, Chase Offerle, Rachel Dratch, An...  2016.0   \n",
            "416  Alison Brie, Gerard Butler, Willem Dafoe, Gret...  2016.0   \n",
            "\n",
            "     Runtime_Minutes  Rating  Votes  Revenue_Millions  Metascore  \n",
            "478             96.0     8.3     61               NaN       71.0  \n",
            "293            107.0     7.7     96               NaN        NaN  \n",
            "393             98.0     5.0    102               NaN       43.0  \n",
            "337             88.0     5.9    115               NaN       64.0  \n",
            "416            108.0     6.9    164               NaN       85.0  \n"
          ]
        }
      ]
    },
    {
      "cell_type": "markdown",
      "source": [
        "**Show the mean and standard deviation of movies’ Revenues.**"
      ],
      "metadata": {
        "id": "ilj2shUSmiQ0"
      }
    },
    {
      "cell_type": "code",
      "source": [
        "revenue_mean = movie_data['Revenue_Millions'].mean()\n",
        "revenue_std = movie_data['Revenue_Millions'].std()\n",
        "print(\"Mean Revenue:\", revenue_mean)\n",
        "print(\"Standard Deviation of Revenue:\", revenue_std)"
      ],
      "metadata": {
        "colab": {
          "base_uri": "https://localhost:8080/"
        },
        "id": "2WwT4_s0iuG3",
        "outputId": "07a53392-cc18-4ae7-f3c0-2e0fdacabaee"
      },
      "execution_count": 12,
      "outputs": [
        {
          "output_type": "stream",
          "name": "stdout",
          "text": [
            "Mean Revenue: 84.37852704257767\n",
            "Standard Deviation of Revenue: 104.75722875596576\n"
          ]
        }
      ]
    },
    {
      "cell_type": "markdown",
      "source": [
        "**Is there a relationship between Runtime and Rating?**"
      ],
      "metadata": {
        "id": "G5rT165Umnn6"
      }
    },
    {
      "cell_type": "code",
      "source": [
        "runtime_rating_corr = movie_data['Runtime_Minutes'].corr(movie_data['Rating'])\n",
        "print(\"Correlation between Runtime and Rating:\", runtime_rating_corr)"
      ],
      "metadata": {
        "colab": {
          "base_uri": "https://localhost:8080/"
        },
        "id": "wqSHbZwgiwyW",
        "outputId": "06ba84b1-aec4-4fb6-d021-186381727212"
      },
      "execution_count": 13,
      "outputs": [
        {
          "output_type": "stream",
          "name": "stdout",
          "text": [
            "Correlation between Runtime and Rating: 0.39174579109826774\n"
          ]
        }
      ]
    },
    {
      "cell_type": "markdown",
      "source": [
        "**Which parameter affects the Revenue more? Votes or Rating?**"
      ],
      "metadata": {
        "id": "JMna7Gmmm1Ms"
      }
    },
    {
      "cell_type": "code",
      "source": [
        "votes_revenue_corr = movie_data['Votes'].corr(movie_data['Revenue_Millions'])\n",
        "rating_revenue_corr = movie_data['Rating'].corr(movie_data['Revenue_Millions'])\n",
        "print(\"Correlation between Votes and Revenue:\", votes_revenue_corr)\n",
        "print(\"Correlation between Rating and Revenue:\", rating_revenue_corr)"
      ],
      "metadata": {
        "colab": {
          "base_uri": "https://localhost:8080/"
        },
        "id": "uOIy4CkQiz98",
        "outputId": "c8b40734-79a4-4e91-da41-fad6e379e9f4"
      },
      "execution_count": 14,
      "outputs": [
        {
          "output_type": "stream",
          "name": "stdout",
          "text": [
            "Correlation between Votes and Revenue: 0.6275308607267548\n",
            "Correlation between Rating and Revenue: 0.22069699020671943\n"
          ]
        }
      ]
    },
    {
      "cell_type": "markdown",
      "source": [
        "**Add a column with name: Metamark that transform metasores to bad, fair, good,\n",
        "very good and excellent**"
      ],
      "metadata": {
        "id": "3_Rnemocm60x"
      }
    },
    {
      "cell_type": "code",
      "source": [
        "def metamark(score):\n",
        "    if score <= 4:\n",
        "        return 'Bad'\n",
        "    elif score <= 6:\n",
        "        return 'Fair'\n",
        "    elif score <= 7:\n",
        "        return 'Good'\n",
        "    elif score <= 8:\n",
        "        return 'Very Good'\n",
        "    else:\n",
        "        return 'Excellent'"
      ],
      "metadata": {
        "id": "ZibqCc0ji2aW"
      },
      "execution_count": 15,
      "outputs": []
    },
    {
      "cell_type": "code",
      "source": [
        "movie_data['Metamark'] = movie_data['Metascore'].apply(metamark)\n",
        "print(\"Metamark column added successfully.\")"
      ],
      "metadata": {
        "colab": {
          "base_uri": "https://localhost:8080/"
        },
        "id": "-gN9_LLdi8CS",
        "outputId": "db36816a-1158-417a-e89b-77b5b8b71398"
      },
      "execution_count": 17,
      "outputs": [
        {
          "output_type": "stream",
          "name": "stdout",
          "text": [
            "Metamark column added successfully.\n"
          ]
        }
      ]
    },
    {
      "cell_type": "markdown",
      "source": [],
      "metadata": {
        "id": "YsWOZFSonUd4"
      }
    },
    {
      "cell_type": "markdown",
      "source": [
        "**Show all movies directed by James Gunn?**"
      ],
      "metadata": {
        "id": "cspMB2VnnUiO"
      }
    },
    {
      "cell_type": "code",
      "source": [
        "james_gunn_movies = movie_data[movie_data['Director'] == 'James Gunn']\n",
        "print(\"Movies directed by James Gunn:\")\n",
        "print(james_gunn_movies)"
      ],
      "metadata": {
        "colab": {
          "base_uri": "https://localhost:8080/"
        },
        "id": "8cVNWVCVi90t",
        "outputId": "90c39853-021d-48c2-b15b-17a1d06c6f53"
      },
      "execution_count": 18,
      "outputs": [
        {
          "output_type": "stream",
          "name": "stdout",
          "text": [
            "Movies directed by James Gunn:\n",
            "     Rank                                 Title                    Genre  \\\n",
            "0       1               Guardians of the Galaxy  Action,Adventure,Sci-Fi   \n",
            "907   908                      Ocean's Thirteen           Crime,Thriller   \n",
            "936   937  The Human Centipede (First Sequence)                   Horror   \n",
            "\n",
            "                                           Description    Director  \\\n",
            "0    A group of intergalactic criminals are forced ...  James Gunn   \n",
            "907  Danny Ocean rounds up the boys for a third hei...  James Gunn   \n",
            "936  A mad scientist kidnaps and mutilates a trio o...  James Gunn   \n",
            "\n",
            "                                                Actors    Year  \\\n",
            "0    Chris Pratt, Vin Diesel, Bradley Cooper, Zoe S...  2014.0   \n",
            "907  George Clooney, Brad Pitt, Matt Damon,Michael ...  2007.0   \n",
            "936  Dieter Laser, Ashley C. Williams, Ashlynn Yenn...  2009.0   \n",
            "\n",
            "     Runtime_Minutes  Rating   Votes  Revenue_Millions  Metascore   Metamark  \n",
            "0              121.0     8.1  757074            333.13       76.0  Excellent  \n",
            "907            122.0     6.9  269581            117.14       62.0  Excellent  \n",
            "936             92.0     4.4   60655              0.18       33.0  Excellent  \n"
          ]
        }
      ]
    },
    {
      "cell_type": "markdown",
      "source": [
        "Statistical Analysis and Data Science / Emerging Technology in\n",
        "\n",
        "Assignment 1\n",
        "\n",
        "Given the Movie-Data dataset, apply the following tasks using Python:\n",
        "\n",
        "1) Load the dataset from the csv file into a DataFrame.\n",
        "\n",
        "2) Show the shape of the dataframe and the general information.\n",
        "\n",
        "3) Rename column Runtime (Minutes) to Runtime_Minutes and column Revenue\n",
        "(Millions) to Revenue_Millions.\n",
        "\n",
        "4) Are there any duplicates? How many? If yes, drop them.\n",
        "\n",
        "5) How many missing values are there?\n",
        "\n",
        "6) How many missing Description? Drop all movies with missing Description.\n",
        "\n",
        "7) Show the top ten Genre categories.\n",
        "\n",
        "8) Show the top five voted movies and the least five.\n",
        "\n",
        "9) Show the mean and standard deviation of movies’ Revenues.\n",
        "\n",
        "10)Is there a relationship between Runtime and Rating?\n",
        "\n",
        "11) Which parameter affects the Revenue more? Votes or Rating?\n",
        "\n",
        "12) Add a column with name: Metamark that transform metasores to bad, fair, good,\n",
        "very good and excellent.\n",
        "\n",
        "13) Show all movies directed by James Gunn?\n",
        "\n",
        "\n",
        "\n",
        "\n",
        "\n",
        "\n",
        "\n",
        "\n",
        "---\n"
      ],
      "metadata": {
        "id": "UrQfzKL5njTN"
      }
    }
  ]
}